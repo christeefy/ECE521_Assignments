{
 "cells": [
  {
   "cell_type": "markdown",
   "metadata": {
    "deletable": true,
    "editable": true
   },
   "source": [
    "# Question 2: Digit Classifier using Linear Regression\n",
    "##### with Stochastic Gradient Descent"
   ]
  },
  {
   "cell_type": "markdown",
   "metadata": {
    "deletable": true,
    "editable": true
   },
   "source": [
    "### Section 0: Data preparation & function definitions"
   ]
  },
  {
   "cell_type": "markdown",
   "metadata": {
    "deletable": true,
    "editable": true
   },
   "source": [
    "Import relevant packages:"
   ]
  },
  {
   "cell_type": "code",
   "execution_count": 1,
   "metadata": {
    "collapsed": false,
    "deletable": true,
    "editable": true
   },
   "outputs": [],
   "source": [
    "import tensorflow as tf\n",
    "import numpy as np\n",
    "\n",
    "import time\n",
    "\n",
    "# Non-interactive plotting\n",
    "import matplotlib.pyplot as plt\n",
    "from IPython import display\n",
    "\n",
    "# Interactive plotting\n",
    "from plotly import tools\n",
    "import plotly.plotly as py\n",
    "import plotly.graph_objs as go\n",
    "import plotly.offline as pyo\n",
    "# from plotly.offline import download_plotlyjs"
   ]
  },
  {
   "cell_type": "markdown",
   "metadata": {
    "deletable": true,
    "editable": true
   },
   "source": [
    "Configure environment:"
   ]
  },
  {
   "cell_type": "code",
   "execution_count": 77,
   "metadata": {
    "collapsed": false,
    "deletable": true,
    "editable": true
   },
   "outputs": [
    {
     "data": {
      "text/html": [
       "<script>requirejs.config({paths: { 'plotly': ['https://cdn.plot.ly/plotly-latest.min']},});if(!window.Plotly) {{require(['plotly'],function(plotly) {window.Plotly=plotly;});}}</script>"
      ],
      "text/plain": [
       "<IPython.core.display.HTML object>"
      ]
     },
     "metadata": {},
     "output_type": "display_data"
    }
   ],
   "source": [
    "np.set_printoptions(precision=3)\n",
    "\n",
    "# Activate Plotly Offline for Jupyter\n",
    "pyo.init_notebook_mode(connected=True)"
   ]
  },
  {
   "cell_type": "markdown",
   "metadata": {
    "deletable": true,
    "editable": true
   },
   "source": [
    "Load Tiny MNIST dataset:"
   ]
  },
  {
   "cell_type": "code",
   "execution_count": 4,
   "metadata": {
    "collapsed": true,
    "deletable": true,
    "editable": true
   },
   "outputs": [],
   "source": [
    "with np.load (\"tinymnist.npz\") as data:\n",
    "    trainData, trainTarget = data [\"x\"], data[\"y\"]\n",
    "    validData, validTarget = data [\"x_valid\"], data [\"y_valid\"]\n",
    "    testData, testTarget = data [\"x_test\"], data [\"y_test\"]"
   ]
  },
  {
   "cell_type": "markdown",
   "metadata": {
    "deletable": true,
    "editable": true
   },
   "source": [
    "Define error graph plotting function:"
   ]
  },
  {
   "cell_type": "code",
   "execution_count": 22,
   "metadata": {
    "collapsed": true,
    "deletable": true,
    "editable": true
   },
   "outputs": [],
   "source": [
    "def plotMSEGraph(MSEList, param, param_name):\n",
    "    # Creates appropriate labels for graphs based on 'param_name'\n",
    "    if param_name == 'eta':\n",
    "        label = '$\\eta$ = ' + str(param)\n",
    "    elif param_name == 'batch_size':\n",
    "        label = '$B$ = ' + str(param)\n",
    "    elif param_name == 'lambda':\n",
    "        label = '$\\lambda$ = ' + str(param)\n",
    "    \n",
    "    label_classification = ['train.', 'valid.']\n",
    "    \n",
    "    display.clear_output(wait=True)\n",
    "    plt.figure(figsize=(8,5), dpi=200)\n",
    "    for i, MSE in enumerate(MSEList):\n",
    "        plt.plot(range(len(MSE)), MSE, '.', label=label+' '+label_classification[i])\n",
    "    plt.axis([0, max_epoch, 0, np.amax(MSEList)])\n",
    "    plt.legend()\n",
    "    plt.show()"
   ]
  },
  {
   "cell_type": "code",
   "execution_count": 28,
   "metadata": {
    "collapsed": false,
    "deletable": true,
    "editable": true
   },
   "outputs": [],
   "source": [
    "def errorGraphEta(MSE_epoch, eta):\n",
    "    display.clear_output(wait=True)\n",
    "    plt.figure(figsize=(8,5), dpi=200)\n",
    "    plt.plot(range(len(MSE_epoch)), MSE_epoch, '.', label='$\\eta$ = ' + str(eta))\n",
    "    plt.axis([0, MAX_ITER, 0, np.amax(MSE_epoch)])\n",
    "    plt.legend()\n",
    "    plt.show()"
   ]
  },
  {
   "cell_type": "markdown",
   "metadata": {
    "deletable": true,
    "editable": true
   },
   "source": [
    "Define function that calculates epoch at which MSE has plateaued:"
   ]
  },
  {
   "cell_type": "code",
   "execution_count": 23,
   "metadata": {
    "collapsed": false,
    "deletable": true,
    "editable": true,
    "scrolled": false
   },
   "outputs": [],
   "source": [
    "def calculatePlateauEpoch(MSE_list, mode='single_input'):\n",
    "    \n",
    "    def calculatePlateau(MSE):\n",
    "        plateau = []\n",
    "        MSE_diff = [abs(j - i) for i, j in zip(MSE[:-1], MSE[1:])]\n",
    "        try:\n",
    "            plateau.append(np.where(np.asarray(MSE_diff) < 0.001)[0][0])\n",
    "        except IndexError:\n",
    "            plateau.append(0)\n",
    "            print \"Error: Plateau epoch not reached.\"\n",
    "            pause()\n",
    "        return plateau\n",
    "    \n",
    "    plateau_epoch = []\n",
    "    \n",
    "    if mode == 'double_input':\n",
    "        for MSE_batch in MSE_list:\n",
    "            for MSE in MSE_batch:\n",
    "                plateau_epoch.append(calculatePlateau(MSE))\n",
    "        return np.reshape(np.asarray(plateau_epoch), (4, 3))\n",
    "    \n",
    "    for MSE in MSE_list:\n",
    "        plateau_epoch.append(calculatePlateau(MSE))\n",
    "    return sum(plateau_epoch, [])"
   ]
  },
  {
   "cell_type": "markdown",
   "metadata": {
    "deletable": true,
    "editable": true
   },
   "source": [
    "### Creating TensorFlow graph:"
   ]
  },
  {
   "cell_type": "code",
   "execution_count": 24,
   "metadata": {
    "collapsed": false,
    "deletable": true,
    "editable": true
   },
   "outputs": [],
   "source": [
    "def buildGraph(eta, lambda_):\n",
    "    # Model inputs\n",
    "    X = tf.placeholder(tf.float32, shape=[None, None], name='Input')\n",
    "    Y = tf.placeholder(tf.float32, shape=[None, None], name='Target')\n",
    "    \n",
    "    # Model variables\n",
    "    W = tf.Variable(tf.truncated_normal(shape=[64, 1], stddev=0.5), name='Weights')\n",
    "    b = tf.Variable(0.0, name='Biases')\n",
    "    \n",
    "    # Model parameters\n",
    "    eta = tf.constant(eta, name='Learning_Rate')\n",
    "    lambda_ = tf.constant(lambda_, name='L2_Regularizer')\n",
    "    \n",
    "    # Predicted target\n",
    "    Y_hat = tf.matmul(X, W)\n",
    "    \n",
    "    # Mean squared error\n",
    "    MSE = tf.scalar_mul(tf.divide(1.0, tf.cast(tf.shape(X)[0], tf.float32)), \\\n",
    "                          tf.reduce_sum(tf.square(Y_hat - Y))) \\\n",
    "            + tf.scalar_mul(tf.divide(tf.cast(lambda_, tf.float32), 2.0), tf.matmul(tf.transpose(W), W))\n",
    "    \n",
    "    # Basic accuracy definition (n_correct / n_total)\n",
    "    accuracy = tf.divide(tf.reduce_sum(tf.cast(tf.equal(Y_hat, Y), tf.float64)), tf.cast(tf.shape(X)[0], tf.float64))\n",
    "    \n",
    "    # Basic gradient descent optimizer\n",
    "    optimizer = tf.train.GradientDescentOptimizer(eta).minimize(MSE)\n",
    "    \n",
    "    return W, b, X, Y, Y_hat, MSE, accuracy, optimizer"
   ]
  },
  {
   "cell_type": "markdown",
   "metadata": {
    "deletable": true,
    "editable": true
   },
   "source": [
    "## Section 1: Tuning learning rate, $\\eta$"
   ]
  },
  {
   "cell_type": "markdown",
   "metadata": {
    "deletable": true,
    "editable": true
   },
   "source": [
    "Tune learning rate, $\\eta$:"
   ]
  },
  {
   "cell_type": "code",
   "execution_count": 25,
   "metadata": {
    "collapsed": true,
    "deletable": true,
    "editable": true
   },
   "outputs": [],
   "source": [
    "# def classifyDigit_LearningRate(eta_list, batch_size=50, lambda_=1):\n",
    "#     MSE_list = []\n",
    "    \n",
    "#     for eta in eta_list:\n",
    "#         W, b, X, Y, Y_hat, MSE, accuracy, optimizer = buildGraph(eta, lambda_)\n",
    "\n",
    "#         with tf.Session() as sess:\n",
    "            \n",
    "#             tf.global_variables_initializer().run()\n",
    "#             MSE_epoch = np.array([])[:, np.newaxis]\n",
    "            \n",
    "#             for epoch in range(max_epoch + 1):\n",
    "#                 inputData = trainData[epoch*batch_size:(epoch+1)*batch_size]\n",
    "#                 inputTarget = trainTarget[epoch*batch_size:(epoch+1)*batch_size]\n",
    "                \n",
    "#                 _, error = sess.run([optimizer, MSE], feed_dict={X: trainData, Y: trainTarget})\n",
    "\n",
    "#                 MSE_epoch = np.append(MSE_epoch, error)\n",
    "\n",
    "#                 if (epoch < 3) or (epoch % 1000 == 0):\n",
    "#                     plotErrorGraph(MSE_epoch, eta, 'eta')\n",
    "            \n",
    "#             MSE_list.append(MSE_epoch)\n",
    "            \n",
    "#         plateau_epoch_list = calculatePlateauEpoch(MSE_list)\n",
    "#     return MSE_list, plateau_epoch_list"
   ]
  },
  {
   "cell_type": "code",
   "execution_count": 75,
   "metadata": {
    "collapsed": false,
    "deletable": true,
    "editable": true
   },
   "outputs": [],
   "source": [
    "MAX_ITER = 5000\n",
    "def classifyDigit_LearningRate(etaList, batchSize=50, lambda_=1):\n",
    "    MSESummaryList = []\n",
    "    randIdx = np.arange(trainData.shape[0])\n",
    "    \n",
    "    # Returns the i-th batch of training data and targets\n",
    "    # Generates a new, reshuffled batch once all previous batches are fed\n",
    "    def getNextTrainingBatch(currentIter):\n",
    "        currentBatchNum = currentIter % (trainData.shape[0] / batchSize)\n",
    "        if currentBatchNum == 0:\n",
    "            np.random.shuffle(randIdx)\n",
    "#             print 'Indices shuffled: ', randIdx[:10]\n",
    "        lowerBoundIdx = currentBatchNum * batchSize\n",
    "        upperBoundIdx = (currentBatchNum + 1) * batchSize \n",
    "        return trainData[lowerBoundIdx:upperBoundIdx], trainTarget[lowerBoundIdx:upperBoundIdx]\n",
    "    \n",
    "    # Generate updated plots for training and validation MSE\n",
    "    def plotMSEGraph(MSEList, param):\n",
    "        label = '$\\eta$ = ' + str(param)\n",
    "        label_classification = ['train.', 'valid.']\n",
    "\n",
    "        display.clear_output(wait=True)\n",
    "        plt.figure(figsize=(8,5), dpi=200)\n",
    "        \n",
    "        for i, MSE in enumerate(MSEList):\n",
    "            plt.plot(range(len(MSE)), MSE, '.', label=label+' '+label_classification[i])\n",
    "        \n",
    "        plt.axis([0, MAX_ITER, 0, np.amax(MSEList)])\n",
    "        plt.legend()\n",
    "        plt.show()\n",
    "    \n",
    "    # Returns True if validation MSE begins increasing, otherwise False\n",
    "    def shouldStopEarly(currentValidMSE):\n",
    "        if currentValidMSE.shape[0] < 2:\n",
    "            return False\n",
    "        return True if ((currentValidMSE[-1] - currentValidMSE[-2]) > 0) else False\n",
    "    \n",
    "    for eta in etaList:\n",
    "        W, b, X, Y, Y_hat, MSE, accuracy, optimizer = buildGraph(eta, lambda_)\n",
    "\n",
    "        with tf.Session() as sess:\n",
    "            tf.global_variables_initializer().run()\n",
    "            \n",
    "            # Creates blank training and validation MSE arrays for the Session\n",
    "            currentTrainMSE = np.array([])[:, np.newaxis]\n",
    "            currentValidMSE = np.array([])[:, np.newaxis]\n",
    "            \n",
    "            # Runs update\n",
    "            currentIter = 0\n",
    "            while currentIter <= MAX_ITER:\n",
    "                inputData, inputTarget = getNextTrainingBatch(currentIter)\n",
    "                \n",
    "                _, trainError = sess.run([optimizer, MSE], feed_dict={X: inputData, Y: inputTarget})\n",
    "                validError = sess.run([MSE], feed_dict={X: validData, Y: validTarget})\n",
    "\n",
    "                currentTrainMSE = np.append(currentTrainMSE, trainError)\n",
    "                currentValidMSE = np.append(currentValidMSE, validError)\n",
    "                \n",
    "                # Update graph of training and validation MSE arrays\n",
    "                if (currentIter < 3) or (currentIter % 500 == 0):\n",
    "                    plotMSEGraph([currentTrainMSE, currentValidMSE], eta)\n",
    "                \n",
    "                # Checks for early stopping possibilty. If so, breaks from while loop\n",
    "                if shouldStopEarly(currentValidMSE):\n",
    "                    break\n",
    "                \n",
    "                currentIter += 1\n",
    "            \n",
    "        # Save session results as dictionary and appends to MSESummaryList\n",
    "        MSESummaryList.append(\n",
    "            {\n",
    "            'eta': eta,\n",
    "            'B': batchSize,\n",
    "            'lambda': lambda_,\n",
    "            'numIter': currentIter,\n",
    "            'epoch': float(currentIter) / (trainData.shape[0] / batchSize),\n",
    "            'trainMSE': currentTrainMSE,\n",
    "            'validMSE': currentValidMSE,\n",
    "            }\n",
    "        )\n",
    "            \n",
    "#         plateau_epoch_list = calculatePlateauEpoch(MSE_list)\n",
    "    return MSESummaryList"
   ]
  },
  {
   "cell_type": "code",
   "execution_count": 76,
   "metadata": {
    "collapsed": false
   },
   "outputs": [
    {
     "data": {
      "image/png": "[encoded data removed]",
      "text/plain": [
       "<matplotlib.figure.Figure at 0x10fa24b10>"
      ]
     },
     "metadata": {},
     "output_type": "display_data"
    },
    {
     "name": "stdout",
     "output_type": "stream",
     "text": [
      "eta: 0.001, numIter: 3198, validMSE: 0.22\n",
      "eta: 0.010, numIter: 308, validMSE: 0.22\n",
      "eta: 0.100, numIter: 20, validMSE: 0.30\n"
     ]
    }
   ],
   "source": [
    "etaList = [0.001, 0.01, 0.1]\n",
    "tunedEtaMSESummary = classifyDigit_LearningRate(etaList)\n",
    "for summary in tunedEtaMSESummary:\n",
    "    print 'eta: %.3f, numIter: %d, validMSE: %.2f' % (summary['eta'], summary['numIter'], summary['validMSE'][-1])"
   ]
  },
  {
   "cell_type": "code",
   "execution_count": 11,
   "metadata": {
    "collapsed": true,
    "deletable": true,
    "editable": true
   },
   "outputs": [
    {
     "data": {
      "image/png": "[encoded data removed]",
      "text/plain": [
       "<matplotlib.figure.Figure at 0x1140ff650>"
      ]
     },
     "metadata": {},
     "output_type": "display_data"
    }
   ],
   "source": [
    "eta_list = [0.001, 0.01, 0.1]\n",
    "MSE_list, plateau_epoch_list = classifyDigit_LearningRate(eta_list)"
   ]
  },
  {
   "cell_type": "markdown",
   "metadata": {
    "deletable": true,
    "editable": true
   },
   "source": [
    "Table summary of $\\eta$ and plateau epoch:"
   ]
  },
  {
   "cell_type": "code",
   "execution_count": 12,
   "metadata": {
    "collapsed": false,
    "deletable": true,
    "editable": true
   },
   "outputs": [
    {
     "name": "stdout",
     "output_type": "stream",
     "text": [
      "eta   epoch\n",
      "0.001  1103\n",
      "0.010   225\n",
      "0.100    32\n"
     ]
    }
   ],
   "source": [
    "print \"eta   epoch\"\n",
    "for i, eta in enumerate(eta_list):\n",
    "    print \"%3.3f %5d\" % (eta_list[i], plateau_epoch_list[i])"
   ]
  },
  {
   "cell_type": "markdown",
   "metadata": {
    "deletable": true,
    "editable": true
   },
   "source": [
    "Produce interactive graph for best learning rate, $\\eta$:"
   ]
  },
  {
   "cell_type": "code",
   "execution_count": 13,
   "metadata": {
    "collapsed": false,
    "deletable": true,
    "editable": true
   },
   "outputs": [
    {
     "data": {
      "text/html": [
       "<div id=\"116a27c5-98db-408f-aebc-907f46aa3594\" style=\"height: 525px; width: 100%;\" class=\"plotly-graph-div\"></div><script type=\"text/javascript\">require([\"plotly\"], function(Plotly) { window.PLOTLYENV=window.PLOTLYENV || {};window.PLOTLYENV.BASE_URL=\"https://plot.ly\";Plotly.newPlot(\"116a27c5-98db-408f-aebc-907f46aa3594\", [{\"name\": \"best_eta\", \"marker\": {\"color\": \"blue\", \"symbol\": 200}, \"mode\": \"markers+lines\", \"y\": [6.906756401062012, 5.227853298187256, 4.115143299102783, 3.2666611671447754, 2.6114883422851562, 2.10252046585083, 1.7052185535430908, 1.393848180770874, 1.1490250825881958, 0.9560070037841797, 0.8034942746162415, 0.6827642917633057, 0.587047815322876, 0.5110650062561035, 0.450682133436203, 0.40265244245529175, 0.364418625831604, 0.3339619040489197, 0.3096860647201538, 0.2903265953063965, 0.27488061785697937, 0.2625519931316376, 0.252707839012146, 0.24484476447105408, 0.2385621815919876, 0.23354095220565796, 0.2295268177986145, 0.22631695866584778, 0.22374963760375977, 0.22169578075408936, 0.22005239129066467, 0.2187371850013733, 0.21768444776535034, 0.21684160828590393, 0.21616673469543457, 0.21562623977661133, 0.21519339084625244, 0.21484655141830444, 0.21456871926784515, 0.2143460512161255, 0.21416763961315155], \"x\": [0, 1, 2, 3, 4, 5, 6, 7, 8, 9, 10, 11, 12, 13, 14, 15, 16, 17, 18, 19, 20, 21, 22, 23, 24, 25, 26, 27, 28, 29, 30, 31, 32, 33, 34, 35, 36, 37, 38, 39, 40], \"type\": \"scatter\"}], {\"title\": \"$\\\\text{MSE for best learning rate, } \\\\eta = 0.1$\", \"annotations\": [{\"y\": 0.21768444776535034, \"text\": \"Plateau Reached\", \"font\": {\"size\": 16}, \"x\": 32}], \"xaxis\": {\"title\": \"Epoch\"}, \"yaxis\": {\"title\": \"Mean Squared Error (MSE)\"}}, {\"linkText\": \"Export to plot.ly\", \"showLink\": true})});</script>"
      ],
      "text/plain": [
       "<IPython.core.display.HTML object>"
      ]
     },
     "metadata": {},
     "output_type": "display_data"
    }
   ],
   "source": [
    "def bestEtaGraph():\n",
    "    padding_multiplier = 1.3\n",
    "    best_eta_index = np.argmin(plateau_epoch_list)\n",
    "\n",
    "    trace1 = go.Scatter(\n",
    "        x = range(int(plateau_epoch_list[best_eta_index] * padding_multiplier)),\n",
    "        y = MSE_list[best_eta_index][:int(plateau_epoch_list[best_eta_index] * padding_multiplier)],\n",
    "        marker = {'color': 'blue',\n",
    "                  'symbol': 200},\n",
    "        mode = 'markers+lines',\n",
    "        name = 'best_eta'\n",
    "    )\n",
    "    data = go.Data([trace1])\n",
    "    \n",
    "    layout = go.Layout(\n",
    "        title = '$\\\\text{MSE for best learning rate, } \\\\eta = ' + str(eta_list[best_eta_index]) + '$',\n",
    "        xaxis = {'title': 'Epoch'},\n",
    "        yaxis = {'title': 'Mean Squared Error (MSE)'},\n",
    "        annotations = [\n",
    "            dict(\n",
    "                text = 'Plateau Reached', \n",
    "                x = plateau_epoch_list[best_eta_index],\n",
    "                y = MSE_list[best_eta_index][plateau_epoch_list[best_eta_index]],\n",
    "                font = dict(size = 16) \n",
    "            )\n",
    "        ]\n",
    "    )\n",
    "\n",
    "    figure = go.Figure(data=data, layout=layout)\n",
    "    return pyo.iplot(figure, filename='A1Q2.1_bestEtaGraph')\n",
    "fig2_1 = bestEtaGraph()"
   ]
  },
  {
   "cell_type": "markdown",
   "metadata": {
    "deletable": true,
    "editable": true
   },
   "source": [
    "### Graph of best learning rate:"
   ]
  },
  {
   "cell_type": "code",
   "execution_count": 14,
   "metadata": {
    "collapsed": false,
    "deletable": true,
    "editable": true,
    "scrolled": false
   },
   "outputs": [],
   "source": [
    "fig2_1"
   ]
  },
  {
   "cell_type": "markdown",
   "metadata": {
    "deletable": true,
    "editable": true
   },
   "source": [
    "## Section 2: Tuning mini-batch size, $B$"
   ]
  },
  {
   "cell_type": "markdown",
   "metadata": {
    "deletable": true,
    "editable": true
   },
   "source": [
    "Redefine '$\\textit{max_epoch}$' variable:"
   ]
  },
  {
   "cell_type": "code",
   "execution_count": 15,
   "metadata": {
    "collapsed": true,
    "deletable": true,
    "editable": true
   },
   "outputs": [],
   "source": [
    "max_epoch = 3000"
   ]
  },
  {
   "cell_type": "markdown",
   "metadata": {
    "deletable": true,
    "editable": true
   },
   "source": [
    "Define error graph function w.r.t. $B$:"
   ]
  },
  {
   "cell_type": "code",
   "execution_count": 16,
   "metadata": {
    "collapsed": false,
    "deletable": true,
    "editable": true
   },
   "outputs": [],
   "source": [
    "def errorGraphBatchSize(MSE_epoch, batch_size):\n",
    "    display.clear_output(wait=True)\n",
    "    plt.figure(figsize=(8,5), dpi=200)\n",
    "    plt.plot(range(len(MSE_epoch)), MSE_epoch, '.', label='$B$ = ' + str(batch_size))\n",
    "    plt.axis([0, max_epoch, 0, np.amax(MSE_epoch)])\n",
    "    plt.legend()\n",
    "    plt.show()"
   ]
  },
  {
   "cell_type": "code",
   "execution_count": 17,
   "metadata": {
    "collapsed": false,
    "deletable": true,
    "editable": true
   },
   "outputs": [],
   "source": [
    "def errorGraphLearningRateAndBatchSize(MSE_epoch, eta, batch_size):\n",
    "    label = '$\\eta$ = ' + str(eta) + '\\n$B$ = ' + str(batch_size)\n",
    "    display.clear_output(wait=True)\n",
    "    plt.figure(figsize=(8,5), dpi=200)\n",
    "    plt.plot(range(len(MSE_epoch)), MSE_epoch, '.', label=label)\n",
    "    plt.axis([0, max_epoch, 0, np.amax(MSE_epoch)])\n",
    "    plt.legend()\n",
    "    plt.show()"
   ]
  },
  {
   "cell_type": "markdown",
   "metadata": {
    "deletable": true,
    "editable": true
   },
   "source": [
    "Tune batch size using best learning rate, $\\eta$, inferred from Section 1."
   ]
  },
  {
   "cell_type": "code",
   "execution_count": 18,
   "metadata": {
    "collapsed": false,
    "deletable": true,
    "editable": true
   },
   "outputs": [],
   "source": [
    "def classifyDigit_BatchSize(batch_size_list, eta=0.1, lambda_=1):\n",
    "    MSE_list = []\n",
    "    \n",
    "    for batch_size in batch_size_list:\n",
    "        \n",
    "        W, b, X, Y, Y_hat, MSE, accuracy, optimizer = buildGraph(eta, lambda_)\n",
    "\n",
    "        with tf.Session() as sess:\n",
    "            \n",
    "            tf.global_variables_initializer().run()\n",
    "            MSE_epoch = np.array([])[:, np.newaxis]\n",
    "            \n",
    "            for epoch in range(max_epoch + 1):\n",
    "                inputData = trainData[epoch*batch_size:(epoch+1)*batch_size]\n",
    "                inputTarget = trainTarget[epoch*batch_size:(epoch+1)*batch_size]\n",
    "                \n",
    "                _, error = sess.run([optimizer, MSE], feed_dict={X: trainData, Y: trainTarget})\n",
    "\n",
    "                MSE_epoch = np.append(MSE_epoch, error)\n",
    "\n",
    "                if (epoch < 5) or (epoch % 30 == 0):\n",
    "                    plotErrorGraph(MSE_epoch, batch_size, 'batch_size')\n",
    "            \n",
    "            MSE_list.append(MSE_epoch)\n",
    "            \n",
    "        plateau_epoch_list = calculatePlateauEpoch(MSE_list)\n",
    "    return MSE_list, plateau_epoch_list"
   ]
  },
  {
   "cell_type": "code",
   "execution_count": 19,
   "metadata": {
    "collapsed": false,
    "deletable": true,
    "editable": true
   },
   "outputs": [],
   "source": [
    "def classifyDigit_LearningRate_BatchSize(eta_list, batch_size_list, lambda_=1):\n",
    "    MSE_list = []\n",
    "    runtime_list = []\n",
    "    \n",
    "    for batch_size in batch_size_list:\n",
    "        \n",
    "        MSE_batch = []\n",
    "        \n",
    "        for eta in eta_list:\n",
    "            W, b, X, Y, Y_hat, MSE, accuracy, optimizer = buildGraph(eta, lambda_)\n",
    "            MSE_epoch_eta = []\n",
    "            with tf.Session() as sess:\n",
    "\n",
    "                tf.global_variables_initializer().run()\n",
    "                \n",
    "                start_time = time.time() # Time counter\n",
    "                graph_time = 0.0 # Records time spent on dynamic graphing\n",
    "\n",
    "                for epoch in range(max_epoch + 1):\n",
    "                    inputData = trainData[epoch*batch_size:(epoch+1)*batch_size]\n",
    "                    inputTarget = trainTarget[epoch*batch_size:(epoch+1)*batch_size]\n",
    "\n",
    "                    _, error = sess.run([optimizer, MSE], feed_dict={X: trainData, Y: trainTarget})\n",
    "\n",
    "                    MSE_epoch_eta = np.append(MSE_epoch_eta, error)\n",
    "\n",
    "                    if (epoch < 3) or (epoch % 1000 == 0):\n",
    "                        graph_start = time.time()\n",
    "                        errorGraphLearningRateAndBatchSize(MSE_epoch_eta, eta, batch_size)\n",
    "                        graph_end = time.time()\n",
    "                        graph_time += graph_end - graph_end \n",
    "                \n",
    "                end_time = time.time() # Time counter\n",
    "                runtime_list.append(end_time - start_time - graph_time)\n",
    "\n",
    "            MSE_batch.append(MSE_epoch_eta)\n",
    "        MSE_list.append(MSE_batch)\n",
    "        \n",
    "    plateau_epoch_array = calculatePlateauEpoch(MSE_list, 'double_input')\n",
    "    \n",
    "    return np.asarray(MSE_list), plateau_epoch_array, np.reshape(np.asarray(runtime_list), (len(batch_size_list), len(eta_list)))"
   ]
  },
  {
   "cell_type": "code",
   "execution_count": 20,
   "metadata": {
    "collapsed": false,
    "deletable": true,
    "editable": true
   },
   "outputs": [
    {
     "data": {
      "image/png": "[encoded data removed]",
      "text/plain": [
       "<matplotlib.figure.Figure at 0x113b36b10>"
      ]
     },
     "metadata": {},
     "output_type": "display_data"
    }
   ],
   "source": [
    "batch_size_list = [10, 50, 100, 700]\n",
    "MSE_array, plateau_epoch_array, runtime_array = classifyDigit_LearningRate_BatchSize(eta_list, batch_size_list)"
   ]
  },
  {
   "cell_type": "markdown",
   "metadata": {
    "deletable": true,
    "editable": true
   },
   "source": [
    "Table summary of plateau epoch w.r.t learning rate, $\\eta$, and batch size, $B$:"
   ]
  },
  {
   "cell_type": "code",
   "execution_count": 21,
   "metadata": {
    "collapsed": false,
    "deletable": true,
    "editable": true
   },
   "outputs": [
    {
     "name": "stdout",
     "output_type": "stream",
     "text": [
      "Plateau Epoch Summary:\n",
      "\n",
      "    batch \\ eta 0.001 0.010 0.100\n",
      "             10  1281   223    31\n",
      "             50  1217   226    32\n",
      "            100  1259   223    32\n",
      "            700  1198   222    32\n",
      "\n",
      "Runtime Summary (in s):\n",
      "\n",
      "    batch \\ eta 0.001 0.010 0.100\n",
      "             10  6.84  6.82  6.99\n",
      "             50  6.80  6.70  6.86\n",
      "            100  6.80  6.78  6.77\n",
      "            700  6.76  6.77  6.86\n"
     ]
    }
   ],
   "source": [
    "print 'Plateau Epoch Summary:'\n",
    "print\n",
    "print '%15s %5.3f %5.3f %5.3f' % ('batch \\ eta', eta_list[0], eta_list[1], eta_list[2])\n",
    "\n",
    "for i in range(len(batch_size_list)):\n",
    "    print '%15d %5d %5d %5d' % (batch_size_list[i], \\\n",
    "                                plateau_epoch_array[i][0], \\\n",
    "                                plateau_epoch_array[i][1], \\\n",
    "                                plateau_epoch_array[i][2])\n",
    "    \n",
    "print\n",
    "print 'Runtime Summary (in s):'\n",
    "print\n",
    "print '%15s %5.3f %5.3f %5.3f' % ('batch \\ eta', eta_list[0], eta_list[1], eta_list[2])\n",
    "for i in range(len(batch_size_list)):\n",
    "    print '%15d %5.2f %5.2f %5.2f' % (batch_size_list[i], \\\n",
    "                                runtime_array[i][0], \\\n",
    "                                runtime_array[i][1], \\\n",
    "                                runtime_array[i][2])"
   ]
  },
  {
   "cell_type": "markdown",
   "metadata": {
    "deletable": true,
    "editable": true
   },
   "source": [
    "Produce interactive 2x2 subplots for various batch sizes, $B$, under the best learning rate, $\\eta$:"
   ]
  },
  {
   "cell_type": "code",
   "execution_count": 22,
   "metadata": {
    "collapsed": true,
    "deletable": true,
    "editable": true
   },
   "outputs": [],
   "source": [
    "# def generateBatchSizeGraphs():\n",
    "    \n",
    "#     best_eta_index = [np.argmin(epoch_batch) for epoch_batch in plateau_epoch_array]\n",
    "    \n",
    "#     subplotTitleString = []\n",
    "#     # Dynamically updates subplot titles to reflect dataset for best learning rate w.r.t to each batch_size, B\n",
    "#     for i in range(len(batch_size_list)):\n",
    "#         subplotTitleString.append('$\\\\eta = ' + str(eta_list[best_eta_index[i]]) + \\\n",
    "#                                   '\\nB = ' + str(batch_size_list[best_eta_index[i]]) + '$')\n",
    "    \n",
    "#     fig = tools.make_subplots(rows=2, cols=2, subplot_titles=(subplotTitleString))\n",
    "\n",
    "#     padding_multiplier = 1.3\n",
    "    \n",
    "#     for i in range(MSE_array.shape[0]):\n",
    "#         trace = go.Scatter(\n",
    "#             x = range(int(plateau_epoch_array[i][best_eta_index[i]]*padding_multiplier)),\n",
    "#             y = MSE_array[i][best_eta_index[i]][:(int(plateau_epoch_array[i][best_eta_index[i]]*padding_multiplier))],\n",
    "#             marker = {'color': 'blue',\n",
    "#                       'symbol': 200},\n",
    "#             mode = 'markers+lines'\n",
    "#         )\n",
    "#         fig.append_trace(trace, i / 2 + 1, i % 2 + 1)\n",
    "        \n",
    "#         fig['layout']['xaxis'+str(i+1)].update(title='Epoch')\n",
    "#         fig['layout']['yaxis'+str(i+1)].update(title='MSE')\n",
    "    \n",
    "#     # Add subplot annotations TODO\n",
    "# #     fig['layout']['annotations'].update(\n",
    "# #         dict(\n",
    "# #             text = 'Plateau Reached', \n",
    "# #             x = plateau_epoch_list[best_eta_index[0]],\n",
    "# #             y = MSE_list[best_eta_index[0]][plateau_epoch_list[best_eta_index[0]]],\n",
    "# #             xref = 'x1',\n",
    "# #             yref = 'y1',\n",
    "# #             showarrow = True,\n",
    "# #             font = dict(size = 16) \n",
    "# #         ), \n",
    "# #         dict(\n",
    "# #             text = 'Plateau Reached', \n",
    "# #             x = plateau_epoch_list[best_eta_index[1]],\n",
    "# #             y = MSE_list[best_eta_index[1]][plateau_epoch_list[best_eta_index[1]]],\n",
    "# #             xref = 'x2',\n",
    "# #             yref = 'y2',\n",
    "# #             showarrow = True,\n",
    "# #             font = dict(size = 16) \n",
    "# #         ), \n",
    "# #         dict(\n",
    "# #             text = 'Plateau Reached', \n",
    "# #             x = plateau_epoch_list[best_eta_index[2]],\n",
    "# #             y = MSE_list[best_eta_index[2]][plateau_epoch_list[best_eta_index[2]]],\n",
    "# #             xref = 'x3',\n",
    "# #             yref = 'y3',\n",
    "# #             showarrow = True,\n",
    "# #             font = dict(size = 16) \n",
    "# #         ), \n",
    "# #         dict(\n",
    "# #             text = 'Plateau Reached', \n",
    "# #             x = plateau_epoch_list[best_eta_index[3]],\n",
    "# #             y = MSE_list[best_eta_index[3]][plateau_epoch_list[best_eta_index[3]]],\n",
    "# #             xref = 'x4',\n",
    "# #             yref = 'y1',\n",
    "# #             showarrow = True,\n",
    "# #             font = dict(size = 16) \n",
    "# #         )\n",
    "# #     )\n",
    "\n",
    "#     fig['layout'].update(height=900, width=950, title='Mean Squared Error w.r.t. Epochs', showlegend=False)\n",
    "#     return pyo.iplot(fig, filename='A1Q2.2_batch_size_subplot2x2')\n",
    "# fig2_2 = generateBatchSizeGraphs()"
   ]
  },
  {
   "cell_type": "code",
   "execution_count": 23,
   "metadata": {
    "collapsed": false,
    "deletable": true,
    "editable": true
   },
   "outputs": [
    {
     "data": {
      "text/html": [
       "<div id=\"dcf33d39-d01b-4052-8720-ab06e0dd1344\" style=\"height: 900px; width: 950px;\" class=\"plotly-graph-div\"></div><script type=\"text/javascript\">require([\"plotly\"], function(Plotly) { window.PLOTLYENV=window.PLOTLYENV || {};window.PLOTLYENV.BASE_URL=\"https://plot.ly\";Plotly.newPlot(\"dcf33d39-d01b-4052-8720-ab06e0dd1344\", [{\"name\": \"$B = 10\\n\\\\eta = 0.1$\", \"marker\": {\"symbol\": 200}, \"mode\": \"markers+lines\", \"y\": [6.586658477783203, 4.213541030883789, 3.339420795440674, 2.6835663318634033, 2.169074535369873, 1.7639107704162598, 1.4441940784454346, 1.191465973854065, 0.9913850426673889, 0.8327691555023193, 0.7068742513656616, 0.6068427562713623, 0.527286171913147, 0.46395939588546753, 0.4135127067565918, 0.37329885363578796, 0.34122222661972046, 0.31562161445617676, 0.2951793074607849, 0.27884817123413086, 0.26579588651657104, 0.2553601562976837, 0.24701336026191711, 0.24033522605895996, 0.2349904626607895, 0.23071163892745972, 0.22728532552719116, 0.22454097867012024, 0.22234240174293518, 0.2205805778503418, 0.2191685140132904, 0.21803662180900574, 0.21712905168533325, 0.21640130877494812, 0.2158176600933075, 0.2153494656085968, 0.21497388184070587, 0.2146725058555603, 0.21443064510822296, 0.21423658728599548], \"x\": [0, 1, 2, 3, 4, 5, 6, 7, 8, 9, 10, 11, 12, 13, 14, 15, 16, 17, 18, 19, 20, 21, 22, 23, 24, 25, 26, 27, 28, 29, 30, 31, 32, 33, 34, 35, 36, 37, 38, 39], \"type\": \"scatter\"}, {\"name\": \"$B = 50\\n\\\\eta = 0.1$\", \"marker\": {\"symbol\": 200}, \"mode\": \"markers+lines\", \"y\": [9.565125465393066, 6.849234104156494, 5.269975662231445, 4.103818893432617, 3.2247447967529297, 2.5559303760528564, 2.043222665786743, 1.647666573524475, 1.340850830078125, 1.1017946004867554, 0.9148343801498413, 0.7681583166122437, 0.6527853012084961, 0.5618352890014648, 0.4900054931640625, 0.4331871271133423, 0.3881828784942627, 0.3524949848651886, 0.3241664171218872, 0.3016599416732788, 0.28376495838165283, 0.2695268392562866, 0.2581912875175476, 0.24916136264801025, 0.24196451902389526, 0.236225888133049, 0.23164796829223633, 0.22799459099769592, 0.22507788240909576, 0.2227485626935959, 0.22088752686977386, 0.2194003462791443, 0.2182115614414215, 0.21726086735725403, 0.21650055050849915, 0.2158922255039215, 0.21540547907352448, 0.21501582860946655, 0.21470391750335693, 0.21445409953594208, 0.21425406634807587], \"x\": [0, 1, 2, 3, 4, 5, 6, 7, 8, 9, 10, 11, 12, 13, 14, 15, 16, 17, 18, 19, 20, 21, 22, 23, 24, 25, 26, 27, 28, 29, 30, 31, 32, 33, 34, 35, 36, 37, 38, 39, 40], \"type\": \"scatter\"}, {\"name\": \"$B = 100\\n\\\\eta = 0.1$\", \"marker\": {\"symbol\": 200}, \"mode\": \"markers+lines\", \"y\": [13.399650573730469, 6.537621021270752, 4.974298477172852, 3.89481258392334, 3.0731263160705566, 2.442117929458618, 1.9553022384643555, 1.578246831893921, 1.2851895093917847, 1.056718349456787, 0.8781153559684753, 0.7381599545478821, 0.6282538771629333, 0.5417807102203369, 0.47362837195396423, 0.4198330044746399, 0.37731170654296875, 0.34366026520729065, 0.31699851155281067, 0.29585325717926025, 0.27906763553619385, 0.2657316029071808, 0.2551282048225403, 0.24669155478477478, 0.23997464776039124, 0.23462370038032532, 0.23035866022109985, 0.2269575297832489, 0.22424399852752686, 0.2220781445503235, 0.2203487604856491, 0.21896734833717346, 0.217863529920578, 0.21698123216629028, 0.21627581119537354, 0.21571166813373566, 0.215260311961174, 0.21489915251731873, 0.21461006999015808, 0.21437865495681763, 0.21419337391853333], \"x\": [0, 1, 2, 3, 4, 5, 6, 7, 8, 9, 10, 11, 12, 13, 14, 15, 16, 17, 18, 19, 20, 21, 22, 23, 24, 25, 26, 27, 28, 29, 30, 31, 32, 33, 34, 35, 36, 37, 38, 39, 40], \"type\": \"scatter\"}, {\"name\": \"$B = 700\\n\\\\eta = 0.1$\", \"marker\": {\"symbol\": 200}, \"mode\": \"markers+lines\", \"y\": [6.977303981781006, 5.509392261505127, 4.37063455581665, 3.483729362487793, 2.7907447814941406, 2.247804641723633, 1.821435570716858, 1.485945463180542, 1.2215133905410767, 1.0127812623977661, 0.8478026390075684, 0.7172571420669556, 0.6138536930084229, 0.5318742990493774, 0.46682679653167725, 0.4151756763458252, 0.37413379549980164, 0.3415015935897827, 0.3155408501625061, 0.29487645626068115, 0.278419554233551, 0.2653074264526367, 0.25485554337501526, 0.24652083218097687, 0.2398717701435089, 0.23456546664237976, 0.23032937943935394, 0.22694647312164307, 0.22424407303333282, 0.22208470106124878, 0.22035863995552063, 0.21897871792316437, 0.2178751528263092, 0.21699237823486328, 0.21628603339195251, 0.21572083234786987, 0.21526840329170227, 0.21490617096424103, 0.2146161049604416, 0.2143838107585907, 0.21419775485992432], \"x\": [0, 1, 2, 3, 4, 5, 6, 7, 8, 9, 10, 11, 12, 13, 14, 15, 16, 17, 18, 19, 20, 21, 22, 23, 24, 25, 26, 27, 28, 29, 30, 31, 32, 33, 34, 35, 36, 37, 38, 39, 40], \"type\": \"scatter\"}], {\"showlegend\": true, \"title\": \"Mean Squared Error w.r.t. Epochs\", \"yaxis\": {\"title\": \"MSE\"}, \"height\": 900, \"width\": 950, \"xaxis\": {\"title\": \"Epoch\"}}, {\"linkText\": \"Export to plot.ly\", \"showLink\": true})});</script>"
      ],
      "text/plain": [
       "<IPython.core.display.HTML object>"
      ]
     },
     "metadata": {},
     "output_type": "display_data"
    }
   ],
   "source": [
    "def generateBatchSizeGraphs():\n",
    "    trace_list = []\n",
    "    padding_multiplier = 1.3\n",
    "    best_eta_index = [np.argmin(epoch_batch) for epoch_batch in plateau_epoch_array]\n",
    "    \n",
    "    title_string = []\n",
    "    # Dynamically updates subplot titles to reflect dataset for best learning rate w.r.t to each batch_size, B\n",
    "    for i in range(len(batch_size_list)):\n",
    "        title_string.append('$B = ' + str(batch_size_list[i]) + \\\n",
    "                            '\\n\\\\eta = ' + str(eta_list[best_eta_index[i]]) + '$')\n",
    "    \n",
    "    for i in range(MSE_array.shape[0]):\n",
    "        trace_list.append(\n",
    "            go.Scatter(\n",
    "                x = range(int(plateau_epoch_array[i][best_eta_index[i]]*padding_multiplier)),\n",
    "                y = MSE_array[i][best_eta_index[i]][:(int(plateau_epoch_array[i][best_eta_index[i]]*padding_multiplier))],\n",
    "                marker = {'symbol': 200},\n",
    "                mode = 'markers+lines',\n",
    "                name = title_string[i]\n",
    "            )\n",
    "        )\n",
    "        \n",
    "    data = go.Data(trace_list)\n",
    "\n",
    "    layout = go.Layout(\n",
    "        height=900, \n",
    "        width=950, \n",
    "        title='Mean Squared Error w.r.t. Epochs', \n",
    "        showlegend=True,\n",
    "        xaxis = {'title': 'Epoch'},\n",
    "        yaxis = {'title': 'MSE'}\n",
    "    )\n",
    "    \n",
    "    fig = go.Figure(data=data, layout=layout)\n",
    "    \n",
    "    return pyo.iplot(fig, filename='A1Q2.2_batch_size_subplot2x2')\n",
    "fig2_2 = generateBatchSizeGraphs()"
   ]
  },
  {
   "cell_type": "markdown",
   "metadata": {
    "collapsed": true,
    "deletable": true,
    "editable": true
   },
   "source": [
    "## Section 3: Tuning $\\ell_2$ regularizer, $\\lambda$, using validation data"
   ]
  },
  {
   "cell_type": "markdown",
   "metadata": {
    "deletable": true,
    "editable": true
   },
   "source": [
    "Redefine '$\\textit{max_epoch}$' variable:"
   ]
  },
  {
   "cell_type": "code",
   "execution_count": 24,
   "metadata": {
    "collapsed": true,
    "deletable": true,
    "editable": true
   },
   "outputs": [],
   "source": [
    "max_epoch = 150"
   ]
  },
  {
   "cell_type": "markdown",
   "metadata": {
    "deletable": true,
    "editable": true
   },
   "source": [
    "Define error graph w.r.t. $\\lambda$"
   ]
  },
  {
   "cell_type": "markdown",
   "metadata": {
    "deletable": true,
    "editable": true
   },
   "source": [
    "Tune $\\lambda$ using validation data, and calculate validation and test data:"
   ]
  },
  {
   "cell_type": "code",
   "execution_count": 25,
   "metadata": {
    "collapsed": false,
    "deletable": true,
    "editable": true
   },
   "outputs": [],
   "source": [
    "def classifyDigit_Lambda(lambda_list, eta=0.1, batch_size=50):\n",
    "    train_accuracy_list = []\n",
    "    validation_accuracy_list = []\n",
    "    test_accuracy_list = []\n",
    "    \n",
    "    train_MSE_list = []\n",
    "    validation_MSE_list = []\n",
    "    test_MSE_list = []\n",
    "    \n",
    "    weights_list = []\n",
    "    bias_list = []\n",
    "    \n",
    "    # Training model for current lambda\n",
    "    for lambda_ in lambda_list:\n",
    "        W, b, X, Y, Y_hat, MSE, accuracy, optimizer = buildGraph(eta, lambda_)\n",
    "\n",
    "        with tf.Session() as sess:\n",
    "            \n",
    "            tf.global_variables_initializer().run()\n",
    "            MSE_epoch = np.array([])[:, np.newaxis]\n",
    "            \n",
    "            for epoch in range(max_epoch + 1):\n",
    "                inputData = trainData[epoch*batch_size:(epoch+1)*batch_size]\n",
    "                inputTarget = trainTarget[epoch*batch_size:(epoch+1)*batch_size]\n",
    "                \n",
    "                _, error, acc = sess.run([optimizer, MSE, accuracy], feed_dict={X: trainData, Y: trainTarget})\n",
    "\n",
    "                MSE_epoch = np.append(MSE_epoch, error)\n",
    "\n",
    "                if (epoch < 3) or (epoch % 50 == 0):\n",
    "                    plotErrorGraph(MSE_epoch, lambda_, 'lambda')\n",
    "                \n",
    "                if epoch == max_epoch:\n",
    "                    train_accuracy_list.append(acc)\n",
    "                    \n",
    "            # Logs training MSE and accuracy in main tracker variables\n",
    "            train_MSE_list.append(MSE_epoch)\n",
    "            \n",
    "            # Calculate validation error post-training\n",
    "            validation_MSE, validation_accuracy, currentW, currentb = \\\n",
    "                sess.run([MSE, accuracy, W, b], feed_dict={X: validData, Y: validTarget})\n",
    "            \n",
    "            # Calculate test error post-training\n",
    "            test_MSE, test_accuracy = \\\n",
    "                sess.run([MSE, accuracy], feed_dict={X: testData, Y: testTarget})\n",
    "            \n",
    "            # Appending validation and test results\n",
    "            validation_accuracy_list.append(validation_accuracy)\n",
    "            test_accuracy_list.append(test_accuracy)\n",
    "            \n",
    "            validation_MSE_list.append(validation_MSE)\n",
    "            test_MSE_list.append(test_MSE)\n",
    "            \n",
    "            weights_list.append(sess.run(W))\n",
    "            bias_list.append(sess.run(b))\n",
    "    \n",
    "    # Calculate plateau epoch based on training MSE\n",
    "    plateau_epoch_array = calculatePlateauEpoch(train_MSE_list)\n",
    "    \n",
    "    # Convert lists into numpy arrays\n",
    "    train_accuracy_array = np.asarray(train_accuracy_list)\n",
    "    validation_accuracy_array = np.asarray(validation_accuracy_list)\n",
    "    test_accuracy_array = np.asarray(test_accuracy_list)\n",
    "    \n",
    "    train_MSE_array = np.asarray(train_MSE_list)\n",
    "    validation_MSE_array = np.asarray(validation_MSE_list)\n",
    "    test_MSE_array = np.asarray(test_MSE_list)\n",
    "    \n",
    "    weights_array = np.asarray(weights_list)\n",
    "    bias_array = np.asarray(bias_list)\n",
    "\n",
    "    return train_accuracy_array, validation_accuracy_array, test_accuracy_array, train_MSE_array, validation_MSE_array, test_MSE_array, weights_array, bias_array, plateau_epoch_array"
   ]
  },
  {
   "cell_type": "code",
   "execution_count": 26,
   "metadata": {
    "collapsed": false,
    "deletable": true,
    "editable": true,
    "scrolled": false
   },
   "outputs": [
    {
     "data": {
      "image/png": "[encoded data removed]",
      "text/plain": [
       "<matplotlib.figure.Figure at 0x115931f90>"
      ]
     },
     "metadata": {},
     "output_type": "display_data"
    }
   ],
   "source": [
    "lambda_list = [0.0, 0.0001, 0.001, 0.01, 0.1, 1.0]\n",
    "train_accuracy_array, validation_accuracy_array, test_accuracy_array, train_MSE_array, validation_MSE_array, test_MSE_array, weights_array, bias_array, plateau_epoch_array = \\\n",
    "    classifyDigit_Lambda(lambda_list)"
   ]
  },
  {
   "cell_type": "code",
   "execution_count": 27,
   "metadata": {
    "collapsed": false,
    "deletable": true,
    "editable": true
   },
   "outputs": [
    {
     "data": {
      "text/plain": [
       "[82, 73, 63, 96, 106, 32]"
      ]
     },
     "execution_count": 27,
     "metadata": {},
     "output_type": "execute_result"
    }
   ],
   "source": [
    "plateau_epoch_array"
   ]
  },
  {
   "cell_type": "markdown",
   "metadata": {
    "deletable": true,
    "editable": true
   },
   "source": [
    "Create summary statistics from previous run:"
   ]
  },
  {
   "cell_type": "code",
   "execution_count": 28,
   "metadata": {
    "collapsed": false,
    "deletable": true,
    "editable": true
   },
   "outputs": [
    {
     "name": "stdout",
     "output_type": "stream",
     "text": [
      "Best lambda found from validation set:  lambda = 0.0100 or 0.0000\n",
      "\n",
      "\n",
      "    lambda  Train MSE Valid. MSE   Test MSE   Plateau Epoch\n",
      "    0.0000      0.105      0.118      0.130              82\n",
      "    0.0001      0.101      0.106      0.122              73\n",
      "    0.0010      0.102      0.101      0.133              63\n",
      "    0.0100      0.109      0.095      0.127              96\n",
      "    0.1000      0.112      0.116      0.132             106\n",
      "    1.0000      0.213      0.213      0.228              32\n"
     ]
    }
   ],
   "source": [
    "best_lambda = lambda_list[np.argmin(validation_MSE_array)]\n",
    "best_lambda1 = lambda_list[np.argmax(validation_accuracy_array)]\n",
    "print \"Best lambda found from validation set:  lambda = %.4f or %.4f\" % (best_lambda, best_lambda1)\n",
    "\n",
    "print\n",
    "print\n",
    "\n",
    "print '%10s %10s %10s %10s %15s' % ('lambda', 'Train MSE', 'Valid. MSE', 'Test MSE', 'Plateau Epoch')\n",
    "for i in range(len(lambda_list)):\n",
    "    print '%10.4f %10.3f %10.3f %10.3f %15d' % (lambda_list[i], train_MSE_array[i][-1], validation_MSE_array[i][-1], \\\n",
    "                                                test_MSE_array[i][-1], plateau_epoch_array[i])"
   ]
  },
  {
   "cell_type": "markdown",
   "metadata": {
    "collapsed": false,
    "deletable": true,
    "editable": true
   },
   "source": [
    "Produce interactive graphs for \"Validation MSE vs. $\\lambda$\" and \"Test MSE vs. $\\lambda$\" respectively:"
   ]
  },
  {
   "cell_type": "code",
   "execution_count": 29,
   "metadata": {
    "collapsed": true,
    "deletable": true,
    "editable": true
   },
   "outputs": [],
   "source": [
    "# TODO Plot validation_MSE vs lambda\n"
   ]
  }
 ],
 "metadata": {
  "kernelspec": {
   "display_name": "Python 2",
   "language": "python",
   "name": "python2"
  },
  "language_info": {
   "codemirror_mode": {
    "name": "ipython",
    "version": 2
   },
   "file_extension": ".py",
   "mimetype": "text/x-python",
   "name": "python",
   "nbconvert_exporter": "python",
   "pygments_lexer": "ipython2",
   "version": "2.7.13"
  }
 },
 "nbformat": 4,
 "nbformat_minor": 2
}
